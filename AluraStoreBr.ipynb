{
  "nbformat": 4,
  "nbformat_minor": 0,
  "metadata": {
    "colab": {
      "provenance": [],
      "include_colab_link": true
    },
    "kernelspec": {
      "name": "python3",
      "display_name": "Python 3"
    },
    "language_info": {
      "name": "python"
    }
  },
  "cells": [
    {
      "cell_type": "markdown",
      "metadata": {
        "id": "view-in-github",
        "colab_type": "text"
      },
      "source": [
        "<a href=\"https://colab.research.google.com/github/syousblack/challenge1-data-science/blob/main/AluraStoreBr.ipynb\" target=\"_parent\"><img src=\"https://colab.research.google.com/assets/colab-badge.svg\" alt=\"Open In Colab\"/></a>"
      ]
    },
    {
      "cell_type": "markdown",
      "source": [
        "### Importação dos dados\n",
        "\n"
      ],
      "metadata": {
        "id": "RhEdWd9YUR6H"
      }
    },
    {
      "cell_type": "code",
      "execution_count": 1,
      "metadata": {
        "colab": {
          "base_uri": "https://localhost:8080/",
          "height": 258
        },
        "id": "T3EvaeQ_INIL",
        "outputId": "504e1ab8-558c-434c-a324-ee944dc091be"
      },
      "outputs": [
        {
          "output_type": "execute_result",
          "data": {
            "text/plain": [
              "                 Produto Categoria do Produto    Preço      Frete  \\\n",
              "0     Assistente virtual          eletronicos   219.08   9.249790   \n",
              "1         Mesa de jantar               moveis   256.35  11.234305   \n",
              "2      Jogo de tabuleiro           brinquedos   279.51  21.262681   \n",
              "3            Micro-ondas     eletrodomesticos  1009.99  54.667344   \n",
              "4  Cadeira de escritório               moveis   446.99  26.964689   \n",
              "\n",
              "  Data da Compra        Vendedor Local da compra  Avaliação da compra  \\\n",
              "0     16/01/2021     Pedro Gomes              SP                    4   \n",
              "1     18/05/2022  Beatriz Moraes              RJ                    1   \n",
              "2     15/03/2021      João Souza              DF                    1   \n",
              "3     03/05/2022      João Souza              RS                    4   \n",
              "4     07/11/2020   Larissa Alves              MG                    5   \n",
              "\n",
              "  Tipo de pagamento  Quantidade de parcelas    lat    lon  \n",
              "0    cartao_credito                       8 -22.19 -48.79  \n",
              "1    cartao_credito                       4 -22.25 -42.66  \n",
              "2    cartao_credito                       1 -15.83 -47.86  \n",
              "3            boleto                       1 -30.17 -53.50  \n",
              "4            boleto                       1 -18.10 -44.38  "
            ],
            "text/html": [
              "\n",
              "  <div id=\"df-5748bfd6-81a9-4edc-8337-a28eeada12f8\" class=\"colab-df-container\">\n",
              "    <div>\n",
              "<style scoped>\n",
              "    .dataframe tbody tr th:only-of-type {\n",
              "        vertical-align: middle;\n",
              "    }\n",
              "\n",
              "    .dataframe tbody tr th {\n",
              "        vertical-align: top;\n",
              "    }\n",
              "\n",
              "    .dataframe thead th {\n",
              "        text-align: right;\n",
              "    }\n",
              "</style>\n",
              "<table border=\"1\" class=\"dataframe\">\n",
              "  <thead>\n",
              "    <tr style=\"text-align: right;\">\n",
              "      <th></th>\n",
              "      <th>Produto</th>\n",
              "      <th>Categoria do Produto</th>\n",
              "      <th>Preço</th>\n",
              "      <th>Frete</th>\n",
              "      <th>Data da Compra</th>\n",
              "      <th>Vendedor</th>\n",
              "      <th>Local da compra</th>\n",
              "      <th>Avaliação da compra</th>\n",
              "      <th>Tipo de pagamento</th>\n",
              "      <th>Quantidade de parcelas</th>\n",
              "      <th>lat</th>\n",
              "      <th>lon</th>\n",
              "    </tr>\n",
              "  </thead>\n",
              "  <tbody>\n",
              "    <tr>\n",
              "      <th>0</th>\n",
              "      <td>Assistente virtual</td>\n",
              "      <td>eletronicos</td>\n",
              "      <td>219.08</td>\n",
              "      <td>9.249790</td>\n",
              "      <td>16/01/2021</td>\n",
              "      <td>Pedro Gomes</td>\n",
              "      <td>SP</td>\n",
              "      <td>4</td>\n",
              "      <td>cartao_credito</td>\n",
              "      <td>8</td>\n",
              "      <td>-22.19</td>\n",
              "      <td>-48.79</td>\n",
              "    </tr>\n",
              "    <tr>\n",
              "      <th>1</th>\n",
              "      <td>Mesa de jantar</td>\n",
              "      <td>moveis</td>\n",
              "      <td>256.35</td>\n",
              "      <td>11.234305</td>\n",
              "      <td>18/05/2022</td>\n",
              "      <td>Beatriz Moraes</td>\n",
              "      <td>RJ</td>\n",
              "      <td>1</td>\n",
              "      <td>cartao_credito</td>\n",
              "      <td>4</td>\n",
              "      <td>-22.25</td>\n",
              "      <td>-42.66</td>\n",
              "    </tr>\n",
              "    <tr>\n",
              "      <th>2</th>\n",
              "      <td>Jogo de tabuleiro</td>\n",
              "      <td>brinquedos</td>\n",
              "      <td>279.51</td>\n",
              "      <td>21.262681</td>\n",
              "      <td>15/03/2021</td>\n",
              "      <td>João Souza</td>\n",
              "      <td>DF</td>\n",
              "      <td>1</td>\n",
              "      <td>cartao_credito</td>\n",
              "      <td>1</td>\n",
              "      <td>-15.83</td>\n",
              "      <td>-47.86</td>\n",
              "    </tr>\n",
              "    <tr>\n",
              "      <th>3</th>\n",
              "      <td>Micro-ondas</td>\n",
              "      <td>eletrodomesticos</td>\n",
              "      <td>1009.99</td>\n",
              "      <td>54.667344</td>\n",
              "      <td>03/05/2022</td>\n",
              "      <td>João Souza</td>\n",
              "      <td>RS</td>\n",
              "      <td>4</td>\n",
              "      <td>boleto</td>\n",
              "      <td>1</td>\n",
              "      <td>-30.17</td>\n",
              "      <td>-53.50</td>\n",
              "    </tr>\n",
              "    <tr>\n",
              "      <th>4</th>\n",
              "      <td>Cadeira de escritório</td>\n",
              "      <td>moveis</td>\n",
              "      <td>446.99</td>\n",
              "      <td>26.964689</td>\n",
              "      <td>07/11/2020</td>\n",
              "      <td>Larissa Alves</td>\n",
              "      <td>MG</td>\n",
              "      <td>5</td>\n",
              "      <td>boleto</td>\n",
              "      <td>1</td>\n",
              "      <td>-18.10</td>\n",
              "      <td>-44.38</td>\n",
              "    </tr>\n",
              "  </tbody>\n",
              "</table>\n",
              "</div>\n",
              "    <div class=\"colab-df-buttons\">\n",
              "\n",
              "  <div class=\"colab-df-container\">\n",
              "    <button class=\"colab-df-convert\" onclick=\"convertToInteractive('df-5748bfd6-81a9-4edc-8337-a28eeada12f8')\"\n",
              "            title=\"Convert this dataframe to an interactive table.\"\n",
              "            style=\"display:none;\">\n",
              "\n",
              "  <svg xmlns=\"http://www.w3.org/2000/svg\" height=\"24px\" viewBox=\"0 -960 960 960\">\n",
              "    <path d=\"M120-120v-720h720v720H120Zm60-500h600v-160H180v160Zm220 220h160v-160H400v160Zm0 220h160v-160H400v160ZM180-400h160v-160H180v160Zm440 0h160v-160H620v160ZM180-180h160v-160H180v160Zm440 0h160v-160H620v160Z\"/>\n",
              "  </svg>\n",
              "    </button>\n",
              "\n",
              "  <style>\n",
              "    .colab-df-container {\n",
              "      display:flex;\n",
              "      gap: 12px;\n",
              "    }\n",
              "\n",
              "    .colab-df-convert {\n",
              "      background-color: #E8F0FE;\n",
              "      border: none;\n",
              "      border-radius: 50%;\n",
              "      cursor: pointer;\n",
              "      display: none;\n",
              "      fill: #1967D2;\n",
              "      height: 32px;\n",
              "      padding: 0 0 0 0;\n",
              "      width: 32px;\n",
              "    }\n",
              "\n",
              "    .colab-df-convert:hover {\n",
              "      background-color: #E2EBFA;\n",
              "      box-shadow: 0px 1px 2px rgba(60, 64, 67, 0.3), 0px 1px 3px 1px rgba(60, 64, 67, 0.15);\n",
              "      fill: #174EA6;\n",
              "    }\n",
              "\n",
              "    .colab-df-buttons div {\n",
              "      margin-bottom: 4px;\n",
              "    }\n",
              "\n",
              "    [theme=dark] .colab-df-convert {\n",
              "      background-color: #3B4455;\n",
              "      fill: #D2E3FC;\n",
              "    }\n",
              "\n",
              "    [theme=dark] .colab-df-convert:hover {\n",
              "      background-color: #434B5C;\n",
              "      box-shadow: 0px 1px 3px 1px rgba(0, 0, 0, 0.15);\n",
              "      filter: drop-shadow(0px 1px 2px rgba(0, 0, 0, 0.3));\n",
              "      fill: #FFFFFF;\n",
              "    }\n",
              "  </style>\n",
              "\n",
              "    <script>\n",
              "      const buttonEl =\n",
              "        document.querySelector('#df-5748bfd6-81a9-4edc-8337-a28eeada12f8 button.colab-df-convert');\n",
              "      buttonEl.style.display =\n",
              "        google.colab.kernel.accessAllowed ? 'block' : 'none';\n",
              "\n",
              "      async function convertToInteractive(key) {\n",
              "        const element = document.querySelector('#df-5748bfd6-81a9-4edc-8337-a28eeada12f8');\n",
              "        const dataTable =\n",
              "          await google.colab.kernel.invokeFunction('convertToInteractive',\n",
              "                                                    [key], {});\n",
              "        if (!dataTable) return;\n",
              "\n",
              "        const docLinkHtml = 'Like what you see? Visit the ' +\n",
              "          '<a target=\"_blank\" href=https://colab.research.google.com/notebooks/data_table.ipynb>data table notebook</a>'\n",
              "          + ' to learn more about interactive tables.';\n",
              "        element.innerHTML = '';\n",
              "        dataTable['output_type'] = 'display_data';\n",
              "        await google.colab.output.renderOutput(dataTable, element);\n",
              "        const docLink = document.createElement('div');\n",
              "        docLink.innerHTML = docLinkHtml;\n",
              "        element.appendChild(docLink);\n",
              "      }\n",
              "    </script>\n",
              "  </div>\n",
              "\n",
              "\n",
              "<div id=\"df-68449b9b-78b4-4c78-8837-39b9d03fc430\">\n",
              "  <button class=\"colab-df-quickchart\" onclick=\"quickchart('df-68449b9b-78b4-4c78-8837-39b9d03fc430')\"\n",
              "            title=\"Suggest charts\"\n",
              "            style=\"display:none;\">\n",
              "\n",
              "<svg xmlns=\"http://www.w3.org/2000/svg\" height=\"24px\"viewBox=\"0 0 24 24\"\n",
              "     width=\"24px\">\n",
              "    <g>\n",
              "        <path d=\"M19 3H5c-1.1 0-2 .9-2 2v14c0 1.1.9 2 2 2h14c1.1 0 2-.9 2-2V5c0-1.1-.9-2-2-2zM9 17H7v-7h2v7zm4 0h-2V7h2v10zm4 0h-2v-4h2v4z\"/>\n",
              "    </g>\n",
              "</svg>\n",
              "  </button>\n",
              "\n",
              "<style>\n",
              "  .colab-df-quickchart {\n",
              "      --bg-color: #E8F0FE;\n",
              "      --fill-color: #1967D2;\n",
              "      --hover-bg-color: #E2EBFA;\n",
              "      --hover-fill-color: #174EA6;\n",
              "      --disabled-fill-color: #AAA;\n",
              "      --disabled-bg-color: #DDD;\n",
              "  }\n",
              "\n",
              "  [theme=dark] .colab-df-quickchart {\n",
              "      --bg-color: #3B4455;\n",
              "      --fill-color: #D2E3FC;\n",
              "      --hover-bg-color: #434B5C;\n",
              "      --hover-fill-color: #FFFFFF;\n",
              "      --disabled-bg-color: #3B4455;\n",
              "      --disabled-fill-color: #666;\n",
              "  }\n",
              "\n",
              "  .colab-df-quickchart {\n",
              "    background-color: var(--bg-color);\n",
              "    border: none;\n",
              "    border-radius: 50%;\n",
              "    cursor: pointer;\n",
              "    display: none;\n",
              "    fill: var(--fill-color);\n",
              "    height: 32px;\n",
              "    padding: 0;\n",
              "    width: 32px;\n",
              "  }\n",
              "\n",
              "  .colab-df-quickchart:hover {\n",
              "    background-color: var(--hover-bg-color);\n",
              "    box-shadow: 0 1px 2px rgba(60, 64, 67, 0.3), 0 1px 3px 1px rgba(60, 64, 67, 0.15);\n",
              "    fill: var(--button-hover-fill-color);\n",
              "  }\n",
              "\n",
              "  .colab-df-quickchart-complete:disabled,\n",
              "  .colab-df-quickchart-complete:disabled:hover {\n",
              "    background-color: var(--disabled-bg-color);\n",
              "    fill: var(--disabled-fill-color);\n",
              "    box-shadow: none;\n",
              "  }\n",
              "\n",
              "  .colab-df-spinner {\n",
              "    border: 2px solid var(--fill-color);\n",
              "    border-color: transparent;\n",
              "    border-bottom-color: var(--fill-color);\n",
              "    animation:\n",
              "      spin 1s steps(1) infinite;\n",
              "  }\n",
              "\n",
              "  @keyframes spin {\n",
              "    0% {\n",
              "      border-color: transparent;\n",
              "      border-bottom-color: var(--fill-color);\n",
              "      border-left-color: var(--fill-color);\n",
              "    }\n",
              "    20% {\n",
              "      border-color: transparent;\n",
              "      border-left-color: var(--fill-color);\n",
              "      border-top-color: var(--fill-color);\n",
              "    }\n",
              "    30% {\n",
              "      border-color: transparent;\n",
              "      border-left-color: var(--fill-color);\n",
              "      border-top-color: var(--fill-color);\n",
              "      border-right-color: var(--fill-color);\n",
              "    }\n",
              "    40% {\n",
              "      border-color: transparent;\n",
              "      border-right-color: var(--fill-color);\n",
              "      border-top-color: var(--fill-color);\n",
              "    }\n",
              "    60% {\n",
              "      border-color: transparent;\n",
              "      border-right-color: var(--fill-color);\n",
              "    }\n",
              "    80% {\n",
              "      border-color: transparent;\n",
              "      border-right-color: var(--fill-color);\n",
              "      border-bottom-color: var(--fill-color);\n",
              "    }\n",
              "    90% {\n",
              "      border-color: transparent;\n",
              "      border-bottom-color: var(--fill-color);\n",
              "    }\n",
              "  }\n",
              "</style>\n",
              "\n",
              "  <script>\n",
              "    async function quickchart(key) {\n",
              "      const quickchartButtonEl =\n",
              "        document.querySelector('#' + key + ' button');\n",
              "      quickchartButtonEl.disabled = true;  // To prevent multiple clicks.\n",
              "      quickchartButtonEl.classList.add('colab-df-spinner');\n",
              "      try {\n",
              "        const charts = await google.colab.kernel.invokeFunction(\n",
              "            'suggestCharts', [key], {});\n",
              "      } catch (error) {\n",
              "        console.error('Error during call to suggestCharts:', error);\n",
              "      }\n",
              "      quickchartButtonEl.classList.remove('colab-df-spinner');\n",
              "      quickchartButtonEl.classList.add('colab-df-quickchart-complete');\n",
              "    }\n",
              "    (() => {\n",
              "      let quickchartButtonEl =\n",
              "        document.querySelector('#df-68449b9b-78b4-4c78-8837-39b9d03fc430 button');\n",
              "      quickchartButtonEl.style.display =\n",
              "        google.colab.kernel.accessAllowed ? 'block' : 'none';\n",
              "    })();\n",
              "  </script>\n",
              "</div>\n",
              "\n",
              "    </div>\n",
              "  </div>\n"
            ],
            "application/vnd.google.colaboratory.intrinsic+json": {
              "type": "dataframe",
              "variable_name": "loja",
              "summary": "{\n  \"name\": \"loja\",\n  \"rows\": 2359,\n  \"fields\": [\n    {\n      \"column\": \"Produto\",\n      \"properties\": {\n        \"dtype\": \"category\",\n        \"num_unique_values\": 51,\n        \"samples\": [\n          \"Viol\\u00e3o\",\n          \"Bola de basquete\",\n          \"Smartwatch\"\n        ],\n        \"semantic_type\": \"\",\n        \"description\": \"\"\n      }\n    },\n    {\n      \"column\": \"Categoria do Produto\",\n      \"properties\": {\n        \"dtype\": \"category\",\n        \"num_unique_values\": 8,\n        \"samples\": [\n          \"moveis\",\n          \"esporte e lazer\",\n          \"eletronicos\"\n        ],\n        \"semantic_type\": \"\",\n        \"description\": \"\"\n      }\n    },\n    {\n      \"column\": \"Pre\\u00e7o\",\n      \"properties\": {\n        \"dtype\": \"number\",\n        \"std\": 819.5827782539145,\n        \"min\": 10.07,\n        \"max\": 3969.38,\n        \"num_unique_values\": 2315,\n        \"samples\": [\n          446.11,\n          107.31,\n          65.86\n        ],\n        \"semantic_type\": \"\",\n        \"description\": \"\"\n      }\n    },\n    {\n      \"column\": \"Frete\",\n      \"properties\": {\n        \"dtype\": \"number\",\n        \"std\": 43.814183327408166,\n        \"min\": 0.0,\n        \"max\": 214.3770604781,\n        \"num_unique_values\": 2149,\n        \"samples\": [\n          83.815279607,\n          16.069664669,\n          14.0344876928\n        ],\n        \"semantic_type\": \"\",\n        \"description\": \"\"\n      }\n    },\n    {\n      \"column\": \"Data da Compra\",\n      \"properties\": {\n        \"dtype\": \"object\",\n        \"num_unique_values\": 1018,\n        \"samples\": [\n          \"15/09/2022\",\n          \"03/06/2020\",\n          \"06/11/2021\"\n        ],\n        \"semantic_type\": \"\",\n        \"description\": \"\"\n      }\n    },\n    {\n      \"column\": \"Vendedor\",\n      \"properties\": {\n        \"dtype\": \"category\",\n        \"num_unique_values\": 14,\n        \"samples\": [\n          \"Juliana Costa\",\n          \"Mariana Ferreira\",\n          \"Pedro Gomes\"\n        ],\n        \"semantic_type\": \"\",\n        \"description\": \"\"\n      }\n    },\n    {\n      \"column\": \"Local da compra\",\n      \"properties\": {\n        \"dtype\": \"category\",\n        \"num_unique_values\": 26,\n        \"samples\": [\n          \"TO\",\n          \"RN\",\n          \"SP\"\n        ],\n        \"semantic_type\": \"\",\n        \"description\": \"\"\n      }\n    },\n    {\n      \"column\": \"Avalia\\u00e7\\u00e3o da compra\",\n      \"properties\": {\n        \"dtype\": \"number\",\n        \"std\": 1,\n        \"min\": 1,\n        \"max\": 5,\n        \"num_unique_values\": 5,\n        \"samples\": [\n          1,\n          2,\n          5\n        ],\n        \"semantic_type\": \"\",\n        \"description\": \"\"\n      }\n    },\n    {\n      \"column\": \"Tipo de pagamento\",\n      \"properties\": {\n        \"dtype\": \"category\",\n        \"num_unique_values\": 4,\n        \"samples\": [\n          \"boleto\",\n          \"cartao_debito\",\n          \"cartao_credito\"\n        ],\n        \"semantic_type\": \"\",\n        \"description\": \"\"\n      }\n    },\n    {\n      \"column\": \"Quantidade de parcelas\",\n      \"properties\": {\n        \"dtype\": \"number\",\n        \"std\": 2,\n        \"min\": 1,\n        \"max\": 24,\n        \"num_unique_values\": 15,\n        \"samples\": [\n          7,\n          14,\n          8\n        ],\n        \"semantic_type\": \"\",\n        \"description\": \"\"\n      }\n    },\n    {\n      \"column\": \"lat\",\n      \"properties\": {\n        \"dtype\": \"number\",\n        \"std\": 5.372399916530833,\n        \"min\": -30.17,\n        \"max\": 1.41,\n        \"num_unique_values\": 26,\n        \"samples\": [\n          -9.46,\n          -5.81,\n          -22.19\n        ],\n        \"semantic_type\": \"\",\n        \"description\": \"\"\n      }\n    },\n    {\n      \"column\": \"lon\",\n      \"properties\": {\n        \"dtype\": \"number\",\n        \"std\": 4.183180020544179,\n        \"min\": -70.55,\n        \"max\": -36.59,\n        \"num_unique_values\": 26,\n        \"samples\": [\n          -48.26,\n          -36.59,\n          -48.79\n        ],\n        \"semantic_type\": \"\",\n        \"description\": \"\"\n      }\n    }\n  ]\n}"
            }
          },
          "metadata": {},
          "execution_count": 1
        }
      ],
      "source": [
        "import pandas as pd\n",
        "\n",
        "url = \"https://raw.githubusercontent.com/alura-es-cursos/challenge1-data-science/refs/heads/main/base-de-dados-challenge-1/loja_1.csv\"\n",
        "url2 = \"https://raw.githubusercontent.com/alura-es-cursos/challenge1-data-science/refs/heads/main/base-de-dados-challenge-1/loja_2.csv\"\n",
        "url3 = \"https://raw.githubusercontent.com/alura-es-cursos/challenge1-data-science/refs/heads/main/base-de-dados-challenge-1/loja_3.csv\"\n",
        "url4 = \"https://raw.githubusercontent.com/alura-es-cursos/challenge1-data-science/refs/heads/main/base-de-dados-challenge-1/loja_4.csv\"\n",
        "\n",
        "loja = pd.read_csv(url)\n",
        "loja2 = pd.read_csv(url2)\n",
        "loja3 = pd.read_csv(url3)\n",
        "loja4 = pd.read_csv(url4)\n",
        "\n",
        "loja.head()"
      ]
    },
    {
      "cell_type": "code",
      "source": [],
      "metadata": {
        "id": "ZIwYWDeOM8CQ"
      },
      "execution_count": null,
      "outputs": []
    },
    {
      "cell_type": "markdown",
      "source": [
        "#1. Análise do faturamento\n"
      ],
      "metadata": {
        "id": "X62IW3KFUIYm"
      }
    },
    {
      "cell_type": "code",
      "source": [
        "# Dados das lojas (Preço + Frete)\n",
        "loja_1 = 219.08 + 9.25\n",
        "loja_2 = 256.35 + 11.23\n",
        "loja_3 = 279.51 + 21.26\n",
        "loja_4 = 1009.99 + 54.67\n",
        "\n",
        "# Cálculo do faturamento total\n",
        "total_loja_1 = loja_1\n",
        "total_loja_2 = loja_2\n",
        "total_loja_3 = loja_3\n",
        "total_loja_4 = loja_4\n",
        "\n",
        "# Exibição dos resultados\n",
        "print(f\"Faturamento por loja:\")\n",
        "print(f\"Loja 1: R$ {total_loja_1:.2f}\")\n",
        "print(f\"Loja 2: R$ {total_loja_2:.2f}\")\n",
        "print(f\"Loja 3: R$ {total_loja_3:.2f}\")\n",
        "print(f\"Loja 4: R$ {total_loja_4:.2f}\")\n",
        "\n",
        "# Faturamento total geral\n",
        "total_geral = total_loja_1 + total_loja_2 + total_loja_3 + total_loja_4\n",
        "print(f\"\\nFaturamento total geral: R$ {total_geral:.2f}\")"
      ],
      "metadata": {
        "colab": {
          "base_uri": "https://localhost:8080/"
        },
        "id": "a8kjkx8nQ4lQ",
        "outputId": "bb94f05e-3214-45d2-9a55-95e07594ffe5"
      },
      "execution_count": 5,
      "outputs": [
        {
          "output_type": "stream",
          "name": "stdout",
          "text": [
            "Faturamento por loja:\n",
            "Loja 1: R$ 228.33\n",
            "Loja 2: R$ 267.58\n",
            "Loja 3: R$ 300.77\n",
            "Loja 4: R$ 1064.66\n",
            "\n",
            "Faturamento total geral: R$ 1861.34\n"
          ]
        }
      ]
    },
    {
      "cell_type": "code",
      "source": [
        "import matplotlib.pyplot as plt\n",
        "\n",
        "# Dados\n",
        "lojas = ['Loja 1', 'Loja 2', 'Loja 3', 'Loja 4']\n",
        "valores = [228.33, 267.58, 300.77, 1064.66]\n",
        "\n",
        "# Criar gráfico\n",
        "plt.bar(lojas, valores, color=['blue', 'orange', 'green', 'red'])\n",
        "\n",
        "# Adicionar valores nas barras\n",
        "for i, v in enumerate(valores):\n",
        "    plt.text(i, v + 20, f'R${v:.2f}', ha='center')\n",
        "\n",
        "# Configurações básicas\n",
        "plt.title('Faturamento por Loja')\n",
        "plt.ylabel('Valor (R$)')\n",
        "plt.grid(axis='y', linestyle='--')\n",
        "\n",
        "# Mostrar gráfico\n",
        "plt.show()"
      ],
      "metadata": {
        "colab": {
          "base_uri": "https://localhost:8080/",
          "height": 452
        },
        "id": "x1kcOGUFawUl",
        "outputId": "32ebdf6d-935c-485f-ee96-c95e7c0f1fd6"
      },
      "execution_count": 14,
      "outputs": [
        {
          "output_type": "display_data",
          "data": {
            "text/plain": [
              "<Figure size 640x480 with 1 Axes>"
            ],
            "image/png": "[encoded data removed]"
          },
          "metadata": {}
        }
      ]
    },
    {
      "cell_type": "code",
      "source": [
        "# Dados em formato de dicionário\n",
        "lojas = {\n",
        "    \"Loja_1\": 219.08 + 9.25,\n",
        "    \"Loja_2\": 256.35 + 11.23,\n",
        "    \"Loja_3\": 279.51 + 21.26,\n",
        "    \"Loja_4\": 1009.99 + 54.67\n",
        "}\n",
        "\n",
        "# Exibição dos resultados\n",
        "print(\"Faturamento por loja:\")\n",
        "for loja, valor in lojas.items():\n",
        "    print(f\"{loja}: R$ {valor:.2f}\")\n",
        "\n",
        "# Cálculo do total\n",
        "print(f\"\\nTotal geral: R$ {sum(lojas.values()):.2f}\")"
      ],
      "metadata": {
        "id": "KDyr8E71V3m-",
        "colab": {
          "base_uri": "https://localhost:8080/"
        },
        "outputId": "ffc23d22-d795-41ae-980e-154b99ef7e50"
      },
      "execution_count": 6,
      "outputs": [
        {
          "output_type": "stream",
          "name": "stdout",
          "text": [
            "Faturamento por loja:\n",
            "Loja_1: R$ 228.33\n",
            "Loja_2: R$ 267.58\n",
            "Loja_3: R$ 300.77\n",
            "Loja_4: R$ 1064.66\n",
            "\n",
            "Total geral: R$ 1861.34\n"
          ]
        }
      ]
    },
    {
      "cell_type": "markdown",
      "source": [
        "# 2. Vendas por Categoria\n"
      ],
      "metadata": {
        "id": "2V_vcAPzWZmR"
      }
    },
    {
      "cell_type": "code",
      "source": [
        "# Dados de vendas por categoria em cada loja\n",
        "vendas = {\n",
        "    'Loja_1': {'eletronicos': 1, 'moveis': 0, 'brinquedos': 0, 'eletrodomesticos': 0},\n",
        "    'Loja_2': {'eletronicos': 0, 'moveis': 1, 'brinquedos': 0, 'eletrodomesticos': 0},\n",
        "    'Loja_3': {'eletronicos': 0, 'moveis': 0, 'brinquedos': 1, 'eletrodomesticos': 0},\n",
        "    'Loja_4': {'eletronicos': 0, 'moveis': 1, 'brinquedos': 0, 'eletrodomesticos': 1}\n",
        "}\n",
        "\n",
        "# Relatório de vendas por categoria\n",
        "print(\"Vendas por categoria em cada loja:\")\n",
        "for loja, categorias in vendas.items():\n",
        "    print(f\"\\n{loja}:\")\n",
        "    for categoria, quantidade in categorias.items():\n",
        "        if quantidade > 0:  # Mostra apenas categorias com vendas\n",
        "            print(f\"  {categoria}: {quantidade} venda(s)\")\n",
        "\n",
        "# Total por categoria em todas as lojas\n",
        "print(\"\\nTotal geral por categoria:\")\n",
        "totais = {}\n",
        "for categorias in vendas.values():\n",
        "    for categoria, quantidade in categorias.items():\n",
        "        totais[categoria] = totais.get(categoria, 0) + quantidade\n",
        "\n",
        "for categoria, total in totais.items():\n",
        "    if total > 0:\n",
        "        print(f\"{categoria}: {total} venda(s)\")"
      ],
      "metadata": {
        "id": "A34YupIuYhfF",
        "colab": {
          "base_uri": "https://localhost:8080/"
        },
        "outputId": "d3905948-23a4-4955-cb80-2406e20fc33a"
      },
      "execution_count": 7,
      "outputs": [
        {
          "output_type": "stream",
          "name": "stdout",
          "text": [
            "Vendas por categoria em cada loja:\n",
            "\n",
            "Loja_1:\n",
            "  eletronicos: 1 venda(s)\n",
            "\n",
            "Loja_2:\n",
            "  moveis: 1 venda(s)\n",
            "\n",
            "Loja_3:\n",
            "  brinquedos: 1 venda(s)\n",
            "\n",
            "Loja_4:\n",
            "  moveis: 1 venda(s)\n",
            "  eletrodomesticos: 1 venda(s)\n",
            "\n",
            "Total geral por categoria:\n",
            "eletronicos: 1 venda(s)\n",
            "moveis: 2 venda(s)\n",
            "brinquedos: 1 venda(s)\n",
            "eletrodomesticos: 1 venda(s)\n"
          ]
        }
      ]
    },
    {
      "cell_type": "markdown",
      "source": [],
      "metadata": {
        "id": "nEfiqO2qXqzO"
      }
    },
    {
      "cell_type": "code",
      "source": [
        "import matplotlib.pyplot as plt\n",
        "\n",
        "plt.pie([1, 2, 1, 1], labels=['eletronicos', 'moveis', 'brinquedos', 'eletrodomesticos'])\n",
        "plt.title('Vendas por Categoria')\n",
        "plt.show()"
      ],
      "metadata": {
        "id": "yZR6cOjXYSk1",
        "colab": {
          "base_uri": "https://localhost:8080/",
          "height": 428
        },
        "outputId": "1a40d56c-a2f7-4a7d-9149-84bd502e3056"
      },
      "execution_count": 15,
      "outputs": [
        {
          "output_type": "display_data",
          "data": {
            "text/plain": [
              "<Figure size 640x480 with 1 Axes>"
            ],
            "image/png": "[encoded data removed]"
          },
          "metadata": {}
        }
      ]
    },
    {
      "cell_type": "markdown",
      "source": [
        "# 3. Média de Avaliação das Lojas"
      ],
      "metadata": {
        "id": "Rq6tU_xSY3jk"
      }
    },
    {
      "cell_type": "code",
      "source": [
        "lojas = ['SP', 'RJ', 'DF', 'RS', 'MG']\n",
        "avaliacoes = [4, 1, 1, 4, 5]\n",
        "\n",
        "print(\"Média por Loja:\")\n",
        "for i in range(len(lojas)):\n",
        "    print(f\"Loja {lojas[i]}: {avaliacoes[i]:.1f}\")\n",
        "\n",
        "print(f\"\\nMédia geral: {sum(avaliacoes)/len(avaliacoes):.1f}\")"
      ],
      "metadata": {
        "id": "bh3jjjJwY5MU",
        "colab": {
          "base_uri": "https://localhost:8080/"
        },
        "outputId": "7035f0f4-a720-4ab2-d45f-12a92fa693b5"
      },
      "execution_count": 9,
      "outputs": [
        {
          "output_type": "stream",
          "name": "stdout",
          "text": [
            "Média por Loja:\n",
            "Loja SP: 4.0\n",
            "Loja RJ: 1.0\n",
            "Loja DF: 1.0\n",
            "Loja RS: 4.0\n",
            "Loja MG: 5.0\n",
            "\n",
            "Média geral: 3.0\n"
          ]
        }
      ]
    },
    {
      "cell_type": "code",
      "source": [],
      "metadata": {
        "id": "I0KkjPoTY88F"
      },
      "execution_count": 1,
      "outputs": []
    },
    {
      "cell_type": "markdown",
      "source": [
        "# 4. Produtos Mais e Menos Vendidos"
      ],
      "metadata": {
        "id": "DmNp1KPBZCm-"
      }
    },
    {
      "cell_type": "code",
      "source": [
        "produtos = {\n",
        "    'SP': {'produto': 'Assistente virtual', 'vendas': 1},\n",
        "    'RJ': {'produto': 'Mesa de jantar', 'vendas': 1},\n",
        "    'DF': {'produto': 'Jogo de tabuleiro', 'vendas': 1},\n",
        "    'RS': {'produto': 'Micro-ondas', 'vendas': 1},\n",
        "    'MG': {'produto': 'Cadeira de escritório', 'vendas': 1}\n",
        "}\n",
        "\n",
        "print(\" Produtos Destacados por Loja \")\n",
        "for loja, dados in produtos.items():\n",
        "    print(f\"\\n Loja {loja} \")\n",
        "    print(f\"Produto: {dados['produto']}\")\n",
        "    print(f\"Vendas: {dados['vendas']}\")\n",
        "\n",
        "print(\"\\n Todos os produtos venderam a mesma quantidade (1 unidade cada)\")"
      ],
      "metadata": {
        "id": "qoyjqijQZHfF",
        "colab": {
          "base_uri": "https://localhost:8080/"
        },
        "outputId": "42b9ea5f-8290-4fe7-b949-84e4db4984db"
      },
      "execution_count": 10,
      "outputs": [
        {
          "output_type": "stream",
          "name": "stdout",
          "text": [
            " Produtos Destacados por Loja \n",
            "\n",
            " Loja SP \n",
            "Produto: Assistente virtual\n",
            "Vendas: 1\n",
            "\n",
            " Loja RJ \n",
            "Produto: Mesa de jantar\n",
            "Vendas: 1\n",
            "\n",
            " Loja DF \n",
            "Produto: Jogo de tabuleiro\n",
            "Vendas: 1\n",
            "\n",
            " Loja RS \n",
            "Produto: Micro-ondas\n",
            "Vendas: 1\n",
            "\n",
            " Loja MG \n",
            "Produto: Cadeira de escritório\n",
            "Vendas: 1\n",
            "\n",
            " Todos os produtos venderam a mesma quantidade (1 unidade cada)\n"
          ]
        }
      ]
    },
    {
      "cell_type": "code",
      "source": [
        "import matplotlib.pyplot as plt\n",
        "\n",
        "plt.plot(['SP', 'RJ', 'DF', 'RS', 'MG'], [1, 1, 1, 1, 1], 'o-')\n",
        "plt.title('Vendas por Loja (1 unidade cada)')\n",
        "plt.show()"
      ],
      "metadata": {
        "id": "0Sw3sd4IZIGW",
        "colab": {
          "base_uri": "https://localhost:8080/",
          "height": 452
        },
        "outputId": "1a5ac10e-d038-48d4-c36d-8c4613479301"
      },
      "execution_count": 16,
      "outputs": [
        {
          "output_type": "display_data",
          "data": {
            "text/plain": [
              "<Figure size 640x480 with 1 Axes>"
            ],
            "image/png": "[encoded data removed]"
          },
          "metadata": {}
        }
      ]
    },
    {
      "cell_type": "markdown",
      "source": [
        "# 5. Frete Médio por Loja\n"
      ],
      "metadata": {
        "id": "Fl0cGi3bZKqU"
      }
    },
    {
      "cell_type": "code",
      "source": [
        "lojas = ['SP', 'RJ', 'DF', 'RS', 'MG']\n",
        "fretes = [9.25, 11.23, 21.26, 54.67, 26.96]\n",
        "\n",
        "print(\"Frete Médio por Loja:\")\n",
        "for i in range(len(lojas)):\n",
        "    print(f\"Loja {lojas[i]}: R$ {fretes[i]:.2f}\")\n",
        "\n",
        "print(f\"\\nMédia geral: R$ {sum(fretes)/len(fretes):.2f}\")"
      ],
      "metadata": {
        "id": "S2JeaCykZNy9",
        "colab": {
          "base_uri": "https://localhost:8080/"
        },
        "outputId": "4d260caa-7e0e-42a3-a33b-d2affa76a2f9"
      },
      "execution_count": 11,
      "outputs": [
        {
          "output_type": "stream",
          "name": "stdout",
          "text": [
            "Frete Médio por Loja:\n",
            "Loja SP: R$ 9.25\n",
            "Loja RJ: R$ 11.23\n",
            "Loja DF: R$ 21.26\n",
            "Loja RS: R$ 54.67\n",
            "Loja MG: R$ 26.96\n",
            "\n",
            "Média geral: R$ 24.67\n"
          ]
        }
      ]
    },
    {
      "cell_type": "code",
      "source": [
        "import matplotlib.pyplot as plt\n",
        "plt.barh(['SP','RJ','DF','RS','MG'], [9.25,11.23,21.26,54.67,26.96])\n",
        "plt.show()"
      ],
      "metadata": {
        "id": "0tSdCie9ZQlt",
        "colab": {
          "base_uri": "https://localhost:8080/",
          "height": 430
        },
        "outputId": "604ce870-b844-40ef-bd02-a8b2d93e8f08"
      },
      "execution_count": 19,
      "outputs": [
        {
          "output_type": "display_data",
          "data": {
            "text/plain": [
              "<Figure size 640x480 with 1 Axes>"
            ],
            "image/png": "[encoded data removed]"
          },
          "metadata": {}
        }
      ]
    },
    {
      "cell_type": "code",
      "source": [],
      "metadata": {
        "id": "q3ttDkjnffFb"
      },
      "execution_count": null,
      "outputs": []
    },
    {
      "cell_type": "markdown",
      "source": [
        "# Relatorio **final**"
      ],
      "metadata": {
        "id": "H1nQ2MXlzLfy"
      }
    },
    {
      "cell_type": "markdown",
      "source": [
        "Levando em conta analise de todos os dados Sr joao tem ao meu ver 2 opções interessantes e logico vai depender do que ele tem vista, mas eu colocaria a 2 opções da analise total:\n",
        "\n",
        "1 - se opção seria se livrar de dor de cabeça venderia loja do Rj (rio de janeiro) nao tem diferencial, avaliação é ruim, e faturamento é medio.\n",
        "\n",
        "2- se fosse para ganhar dinheiro idea seria vender a loja de maior destaque que seria de Mg (minas gerais) que indica melhor satisfação do cliente.\n",
        "\n",
        "entao Sr joao me apresentando intenção dele um indicaria uma das opções a ele."
      ],
      "metadata": {
        "id": "ARtCs3PezRsX"
      }
    },
    {
      "cell_type": "markdown",
      "source": [
        "# **EXTRA**"
      ],
      "metadata": {
        "id": "DWdRdqzL1cup"
      }
    },
    {
      "cell_type": "code",
      "source": [
        "import matplotlib.pyplot as plt\n",
        "import seaborn as sns\n",
        "\n",
        "# Dados\n",
        "dados = {\n",
        "    'Lat': [-22.19, -22.25, -15.83, -30.17, -18.10],\n",
        "    'Lon': [-48.79, -42.66, -47.86, -53.50, -44.38],\n",
        "    'Valor': [219.08, 256.35, 279.51, 1009.99, 446.99],\n",
        "    'Loja': ['SP', 'RJ', 'DF', 'RS', 'MG'],\n",
        "    'Nota': [4, 1, 1, 4, 5]\n",
        "}\n",
        "\n",
        "# Configuração do gráfico\n",
        "plt.figure(figsize=(10, 6))\n",
        "\n",
        "# Mapa de calor\n",
        "sns.kdeplot(x=dados['Lon'], y=dados['Lat'], weights=dados['Valor'],\n",
        "            cmap='Reds', fill=True, alpha=0.6)\n",
        "\n",
        "# Pontos das lojas\n",
        "sns.scatterplot(x=dados['Lon'], y=dados['Lat'], hue=dados['Nota'],\n",
        "                size=dados['Valor'], sizes=(50, 300), palette='coolwarm')\n",
        "\n",
        "# Rótulos simplificados\n",
        "for i in range(5):\n",
        "    plt.text(dados['Lon'][i], dados['Lat'][i], dados['Loja'][i],\n",
        "             ha='center', va='center')\n",
        "\n",
        "plt.title('Vendas por Região')\n",
        "plt.xlabel('Longitude')\n",
        "plt.ylabel('Latitude')\n",
        "plt.show()"
      ],
      "metadata": {
        "colab": {
          "base_uri": "https://localhost:8080/",
          "height": 564
        },
        "id": "Y3Yr8CFD1gke",
        "outputId": "83e7688e-78dc-4117-c720-81916edcc2f6"
      },
      "execution_count": 20,
      "outputs": [
        {
          "output_type": "display_data",
          "data": {
            "text/plain": [
              "<Figure size 1000x600 with 1 Axes>"
            ],
            "image/png": "[encoded data removed]"
          },
          "metadata": {}
        }
      ]
    },
    {
      "cell_type": "code",
      "source": [
        "import folium\n",
        "\n",
        "# Dados das lojas\n",
        "lojas = [\n",
        "    {'nome': 'SP', 'lat': -22.19, 'lon': -48.79, 'valor': 228.33, 'avaliacao': 4},\n",
        "    {'nome': 'RJ', 'lat': -22.25, 'lon': -42.66, 'valor': 267.58, 'avaliacao': 1},\n",
        "    {'nome': 'DF', 'lat': -15.83, 'lon': -47.86, 'valor': 300.77, 'avaliacao': 1},\n",
        "    {'nome': 'RS', 'lat': -30.17, 'lon': -53.50, 'valor': 1064.66, 'avaliacao': 4},\n",
        "    {'nome': 'MG', 'lat': -18.10, 'lon': -44.38, 'valor': 473.95, 'avaliacao': 5}\n",
        "]\n",
        "\n",
        "# Cria mapa centralizado no Brasil\n",
        "m = folium.Map(location=[-15, -50], zoom_start=4)\n",
        "\n",
        "# Adiciona marcadores para cada loja\n",
        "for loja in lojas:\n",
        "    # Define cor baseado na avaliação\n",
        "    cor = 'green' if loja['avaliacao'] >= 3 else 'red'\n",
        "\n",
        "    # Tamanho proporcional ao valor\n",
        "    raio = loja['valor'] / 50\n",
        "\n",
        "    # Popup com informações\n",
        "    popup = f\"<b>{loja['nome']}</b><br>Valor: R${loja['valor']:.2f}<br>Avaliação: {loja['avaliacao']}/5\"\n",
        "\n",
        "    # Adiciona marcador\n",
        "    folium.CircleMarker(\n",
        "        location=[loja['lat'], loja['lon']],\n",
        "        radius=raio,\n",
        "        popup=popup,\n",
        "        color=cor,\n",
        "        fill=True,\n",
        "        fill_color=cor\n",
        "    ).add_to(m)\n",
        "\n",
        "# Salva e exibe\n",
        "m.save('mapa_vendas.html')\n",
        "m\n"
      ],
      "metadata": {
        "colab": {
          "base_uri": "https://localhost:8080/",
          "height": 854
        },
        "id": "AWy93oba5dLz",
        "outputId": "1808dabc-ab4f-419d-cfb3-a0b2768a53bf"
      },
      "execution_count": 25,
      "outputs": [
        {
          "output_type": "execute_result",
          "data": {
            "text/plain": [
              "<folium.folium.Map at 0x78d09066d490>"
            ],
            "text/html": [
              "<div style=\"width:100%;\"><div style=\"position:relative;width:100%;height:0;padding-bottom:60%;\"><span style=\"color:#565656\">Make this Notebook Trusted to load map: File -> Trust Notebook</span><iframe srcdoc=\"&lt;!DOCTYPE html&gt;\n",
              "&lt;html&gt;\n",
              "&lt;head&gt;\n",
              "    \n",
              "    &lt;meta http-equiv=&quot;content-type&quot; content=&quot;text/html; charset=UTF-8&quot; /&gt;\n",
              "    \n",
              "        &lt;script&gt;\n",
              "            L_NO_TOUCH = false;\n",
              "            L_DISABLE_3D = false;\n",
              "        &lt;/script&gt;\n",
              "    \n",
              "    &lt;style&gt;html, body {width: 100%;height: 100%;margin: 0;padding: 0;}&lt;/style&gt;\n",
              "    &lt;style&gt;#map {position:absolute;top:0;bottom:0;right:0;left:0;}&lt;/style&gt;\n",
              "    &lt;script src=&quot;https://cdn.jsdelivr.net/npm/leaflet@1.9.3/dist/leaflet.js&quot;&gt;&lt;/script&gt;\n",
              "    &lt;script src=&quot;https://code.jquery.com/jquery-3.7.1.min.js&quot;&gt;&lt;/script&gt;\n",
              "    &lt;script src=&quot;https://cdn.jsdelivr.net/npm/bootstrap@5.2.2/dist/js/bootstrap.bundle.min.js&quot;&gt;&lt;/script&gt;\n",
              "    &lt;script src=&quot;https://cdnjs.cloudflare.com/ajax/libs/Leaflet.awesome-markers/2.0.2/leaflet.awesome-markers.js&quot;&gt;&lt;/script&gt;\n",
              "    &lt;link rel=&quot;stylesheet&quot; href=&quot;https://cdn.jsdelivr.net/npm/leaflet@1.9.3/dist/leaflet.css&quot;/&gt;\n",
              "    &lt;link rel=&quot;stylesheet&quot; href=&quot;https://cdn.jsdelivr.net/npm/bootstrap@5.2.2/dist/css/bootstrap.min.css&quot;/&gt;\n",
              "    &lt;link rel=&quot;stylesheet&quot; href=&quot;https://netdna.bootstrapcdn.com/bootstrap/3.0.0/css/bootstrap-glyphicons.css&quot;/&gt;\n",
              "    &lt;link rel=&quot;stylesheet&quot; href=&quot;https://cdn.jsdelivr.net/npm/@fortawesome/fontawesome-free@6.2.0/css/all.min.css&quot;/&gt;\n",
              "    &lt;link rel=&quot;stylesheet&quot; href=&quot;https://cdnjs.cloudflare.com/ajax/libs/Leaflet.awesome-markers/2.0.2/leaflet.awesome-markers.css&quot;/&gt;\n",
              "    &lt;link rel=&quot;stylesheet&quot; href=&quot;https://cdn.jsdelivr.net/gh/python-visualization/folium/folium/templates/leaflet.awesome.rotate.min.css&quot;/&gt;\n",
              "    \n",
              "            &lt;meta name=&quot;viewport&quot; content=&quot;width=device-width,\n",
              "                initial-scale=1.0, maximum-scale=1.0, user-scalable=no&quot; /&gt;\n",
              "            &lt;style&gt;\n",
              "                #map_398bb893550c4b6f28c22b3069c5967f {\n",
              "                    position: relative;\n",
              "                    width: 100.0%;\n",
              "                    height: 100.0%;\n",
              "                    left: 0.0%;\n",
              "                    top: 0.0%;\n",
              "                }\n",
              "                .leaflet-container { font-size: 1rem; }\n",
              "            &lt;/style&gt;\n",
              "        \n",
              "&lt;/head&gt;\n",
              "&lt;body&gt;\n",
              "    \n",
              "    \n",
              "            &lt;div class=&quot;folium-map&quot; id=&quot;map_398bb893550c4b6f28c22b3069c5967f&quot; &gt;&lt;/div&gt;\n",
              "        \n",
              "&lt;/body&gt;\n",
              "&lt;script&gt;\n",
              "    \n",
              "    \n",
              "            var map_398bb893550c4b6f28c22b3069c5967f = L.map(\n",
              "                &quot;map_398bb893550c4b6f28c22b3069c5967f&quot;,\n",
              "                {\n",
              "                    center: [-15.0, -50.0],\n",
              "                    crs: L.CRS.EPSG3857,\n",
              "                    ...{\n",
              "  &quot;zoom&quot;: 4,\n",
              "  &quot;zoomControl&quot;: true,\n",
              "  &quot;preferCanvas&quot;: false,\n",
              "}\n",
              "\n",
              "                }\n",
              "            );\n",
              "\n",
              "            \n",
              "\n",
              "        \n",
              "    \n",
              "            var tile_layer_9efbe76c10cf62e5fae3b4f472bfd49a = L.tileLayer(\n",
              "                &quot;https://tile.openstreetmap.org/{z}/{x}/{y}.png&quot;,\n",
              "                {\n",
              "  &quot;minZoom&quot;: 0,\n",
              "  &quot;maxZoom&quot;: 19,\n",
              "  &quot;maxNativeZoom&quot;: 19,\n",
              "  &quot;noWrap&quot;: false,\n",
              "  &quot;attribution&quot;: &quot;\\u0026copy; \\u003ca href=\\&quot;https://www.openstreetmap.org/copyright\\&quot;\\u003eOpenStreetMap\\u003c/a\\u003e contributors&quot;,\n",
              "  &quot;subdomains&quot;: &quot;abc&quot;,\n",
              "  &quot;detectRetina&quot;: false,\n",
              "  &quot;tms&quot;: false,\n",
              "  &quot;opacity&quot;: 1,\n",
              "}\n",
              "\n",
              "            );\n",
              "        \n",
              "    \n",
              "            tile_layer_9efbe76c10cf62e5fae3b4f472bfd49a.addTo(map_398bb893550c4b6f28c22b3069c5967f);\n",
              "        \n",
              "    \n",
              "            var circle_marker_cc735550c5759bc3a51c7dfb5d439f24 = L.circleMarker(\n",
              "                [-22.19, -48.79],\n",
              "                {&quot;bubblingMouseEvents&quot;: true, &quot;color&quot;: &quot;green&quot;, &quot;dashArray&quot;: null, &quot;dashOffset&quot;: null, &quot;fill&quot;: true, &quot;fillColor&quot;: &quot;green&quot;, &quot;fillOpacity&quot;: 0.2, &quot;fillRule&quot;: &quot;evenodd&quot;, &quot;lineCap&quot;: &quot;round&quot;, &quot;lineJoin&quot;: &quot;round&quot;, &quot;opacity&quot;: 1.0, &quot;radius&quot;: 4.5666, &quot;stroke&quot;: true, &quot;weight&quot;: 3}\n",
              "            ).addTo(map_398bb893550c4b6f28c22b3069c5967f);\n",
              "        \n",
              "    \n",
              "        var popup_daaa38486abbdf176b1caf717272b7eb = L.popup({\n",
              "  &quot;maxWidth&quot;: &quot;100%&quot;,\n",
              "});\n",
              "\n",
              "        \n",
              "            \n",
              "                var html_2b3e391064c981369d69fc903c342007 = $(`&lt;div id=&quot;html_2b3e391064c981369d69fc903c342007&quot; style=&quot;width: 100.0%; height: 100.0%;&quot;&gt;&lt;b&gt;SP&lt;/b&gt;&lt;br&gt;Valor: R$228.33&lt;br&gt;Avaliação: 4/5&lt;/div&gt;`)[0];\n",
              "                popup_daaa38486abbdf176b1caf717272b7eb.setContent(html_2b3e391064c981369d69fc903c342007);\n",
              "            \n",
              "        \n",
              "\n",
              "        circle_marker_cc735550c5759bc3a51c7dfb5d439f24.bindPopup(popup_daaa38486abbdf176b1caf717272b7eb)\n",
              "        ;\n",
              "\n",
              "        \n",
              "    \n",
              "    \n",
              "            var circle_marker_0326a7e2305dd4c1ff33d76f26c4188a = L.circleMarker(\n",
              "                [-22.25, -42.66],\n",
              "                {&quot;bubblingMouseEvents&quot;: true, &quot;color&quot;: &quot;red&quot;, &quot;dashArray&quot;: null, &quot;dashOffset&quot;: null, &quot;fill&quot;: true, &quot;fillColor&quot;: &quot;red&quot;, &quot;fillOpacity&quot;: 0.2, &quot;fillRule&quot;: &quot;evenodd&quot;, &quot;lineCap&quot;: &quot;round&quot;, &quot;lineJoin&quot;: &quot;round&quot;, &quot;opacity&quot;: 1.0, &quot;radius&quot;: 5.3515999999999995, &quot;stroke&quot;: true, &quot;weight&quot;: 3}\n",
              "            ).addTo(map_398bb893550c4b6f28c22b3069c5967f);\n",
              "        \n",
              "    \n",
              "        var popup_4ee5a1f0045c7d13eea5237f9e209969 = L.popup({\n",
              "  &quot;maxWidth&quot;: &quot;100%&quot;,\n",
              "});\n",
              "\n",
              "        \n",
              "            \n",
              "                var html_15dd478671989c56013962f6243ddf78 = $(`&lt;div id=&quot;html_15dd478671989c56013962f6243ddf78&quot; style=&quot;width: 100.0%; height: 100.0%;&quot;&gt;&lt;b&gt;RJ&lt;/b&gt;&lt;br&gt;Valor: R$267.58&lt;br&gt;Avaliação: 1/5&lt;/div&gt;`)[0];\n",
              "                popup_4ee5a1f0045c7d13eea5237f9e209969.setContent(html_15dd478671989c56013962f6243ddf78);\n",
              "            \n",
              "        \n",
              "\n",
              "        circle_marker_0326a7e2305dd4c1ff33d76f26c4188a.bindPopup(popup_4ee5a1f0045c7d13eea5237f9e209969)\n",
              "        ;\n",
              "\n",
              "        \n",
              "    \n",
              "    \n",
              "            var circle_marker_054236457f9d3cea51ead7cef8c25231 = L.circleMarker(\n",
              "                [-15.83, -47.86],\n",
              "                {&quot;bubblingMouseEvents&quot;: true, &quot;color&quot;: &quot;red&quot;, &quot;dashArray&quot;: null, &quot;dashOffset&quot;: null, &quot;fill&quot;: true, &quot;fillColor&quot;: &quot;red&quot;, &quot;fillOpacity&quot;: 0.2, &quot;fillRule&quot;: &quot;evenodd&quot;, &quot;lineCap&quot;: &quot;round&quot;, &quot;lineJoin&quot;: &quot;round&quot;, &quot;opacity&quot;: 1.0, &quot;radius&quot;: 6.0154, &quot;stroke&quot;: true, &quot;weight&quot;: 3}\n",
              "            ).addTo(map_398bb893550c4b6f28c22b3069c5967f);\n",
              "        \n",
              "    \n",
              "        var popup_230a07ca651d3e76f8e14e36f5859ee9 = L.popup({\n",
              "  &quot;maxWidth&quot;: &quot;100%&quot;,\n",
              "});\n",
              "\n",
              "        \n",
              "            \n",
              "                var html_690a5b7d82141fe3534ecaf71562efa6 = $(`&lt;div id=&quot;html_690a5b7d82141fe3534ecaf71562efa6&quot; style=&quot;width: 100.0%; height: 100.0%;&quot;&gt;&lt;b&gt;DF&lt;/b&gt;&lt;br&gt;Valor: R$300.77&lt;br&gt;Avaliação: 1/5&lt;/div&gt;`)[0];\n",
              "                popup_230a07ca651d3e76f8e14e36f5859ee9.setContent(html_690a5b7d82141fe3534ecaf71562efa6);\n",
              "            \n",
              "        \n",
              "\n",
              "        circle_marker_054236457f9d3cea51ead7cef8c25231.bindPopup(popup_230a07ca651d3e76f8e14e36f5859ee9)\n",
              "        ;\n",
              "\n",
              "        \n",
              "    \n",
              "    \n",
              "            var circle_marker_90a50e947c670d6487b153210ea64849 = L.circleMarker(\n",
              "                [-30.17, -53.5],\n",
              "                {&quot;bubblingMouseEvents&quot;: true, &quot;color&quot;: &quot;green&quot;, &quot;dashArray&quot;: null, &quot;dashOffset&quot;: null, &quot;fill&quot;: true, &quot;fillColor&quot;: &quot;green&quot;, &quot;fillOpacity&quot;: 0.2, &quot;fillRule&quot;: &quot;evenodd&quot;, &quot;lineCap&quot;: &quot;round&quot;, &quot;lineJoin&quot;: &quot;round&quot;, &quot;opacity&quot;: 1.0, &quot;radius&quot;: 21.293200000000002, &quot;stroke&quot;: true, &quot;weight&quot;: 3}\n",
              "            ).addTo(map_398bb893550c4b6f28c22b3069c5967f);\n",
              "        \n",
              "    \n",
              "        var popup_df213b22e2485d2307b46d12c475de78 = L.popup({\n",
              "  &quot;maxWidth&quot;: &quot;100%&quot;,\n",
              "});\n",
              "\n",
              "        \n",
              "            \n",
              "                var html_deb19f601189df645fdda6cfaa694200 = $(`&lt;div id=&quot;html_deb19f601189df645fdda6cfaa694200&quot; style=&quot;width: 100.0%; height: 100.0%;&quot;&gt;&lt;b&gt;RS&lt;/b&gt;&lt;br&gt;Valor: R$1064.66&lt;br&gt;Avaliação: 4/5&lt;/div&gt;`)[0];\n",
              "                popup_df213b22e2485d2307b46d12c475de78.setContent(html_deb19f601189df645fdda6cfaa694200);\n",
              "            \n",
              "        \n",
              "\n",
              "        circle_marker_90a50e947c670d6487b153210ea64849.bindPopup(popup_df213b22e2485d2307b46d12c475de78)\n",
              "        ;\n",
              "\n",
              "        \n",
              "    \n",
              "    \n",
              "            var circle_marker_8e8800178702d23896057a9434d8c53e = L.circleMarker(\n",
              "                [-18.1, -44.38],\n",
              "                {&quot;bubblingMouseEvents&quot;: true, &quot;color&quot;: &quot;green&quot;, &quot;dashArray&quot;: null, &quot;dashOffset&quot;: null, &quot;fill&quot;: true, &quot;fillColor&quot;: &quot;green&quot;, &quot;fillOpacity&quot;: 0.2, &quot;fillRule&quot;: &quot;evenodd&quot;, &quot;lineCap&quot;: &quot;round&quot;, &quot;lineJoin&quot;: &quot;round&quot;, &quot;opacity&quot;: 1.0, &quot;radius&quot;: 9.479, &quot;stroke&quot;: true, &quot;weight&quot;: 3}\n",
              "            ).addTo(map_398bb893550c4b6f28c22b3069c5967f);\n",
              "        \n",
              "    \n",
              "        var popup_52d820772edaa823af116694b9f70fd7 = L.popup({\n",
              "  &quot;maxWidth&quot;: &quot;100%&quot;,\n",
              "});\n",
              "\n",
              "        \n",
              "            \n",
              "                var html_612c723bff1e3bb3bb276a09a05495b7 = $(`&lt;div id=&quot;html_612c723bff1e3bb3bb276a09a05495b7&quot; style=&quot;width: 100.0%; height: 100.0%;&quot;&gt;&lt;b&gt;MG&lt;/b&gt;&lt;br&gt;Valor: R$473.95&lt;br&gt;Avaliação: 5/5&lt;/div&gt;`)[0];\n",
              "                popup_52d820772edaa823af116694b9f70fd7.setContent(html_612c723bff1e3bb3bb276a09a05495b7);\n",
              "            \n",
              "        \n",
              "\n",
              "        circle_marker_8e8800178702d23896057a9434d8c53e.bindPopup(popup_52d820772edaa823af116694b9f70fd7)\n",
              "        ;\n",
              "\n",
              "        \n",
              "    \n",
              "    \n",
              "            tile_layer_9efbe76c10cf62e5fae3b4f472bfd49a.addTo(map_398bb893550c4b6f28c22b3069c5967f);\n",
              "        \n",
              "&lt;/script&gt;\n",
              "&lt;/html&gt;\" style=\"position:absolute;width:100%;height:100%;left:0;top:0;border:none !important;\" allowfullscreen webkitallowfullscreen mozallowfullscreen></iframe></div></div>"
            ]
          },
          "metadata": {},
          "execution_count": 25
        }
      ]
    }
  ]
}